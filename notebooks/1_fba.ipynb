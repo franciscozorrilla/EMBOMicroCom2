{
 "cells": [
  {
   "cell_type": "markdown",
   "metadata": {},
   "source": [
    "# 1. Getting started with GEMs and FBA"
   ]
  },
  {
   "cell_type": "markdown",
   "metadata": {},
   "source": [
    "## Authors\n",
    "* Arianna Basile, MRC Toxicology Unit, University of Cambridge\n",
    "* Francisco Zorrilla, MRC Toxicology Unit, University of Cambridge"
   ]
  },
  {
   "cell_type": "markdown",
   "metadata": {},
   "source": [
    "## Learning outcomes\n",
    "\n",
    "In this tutorial you will use [cobrapy](https://cobrapy.readthedocs.io/en/latest/) to learn the following:\n",
    "\n",
    "* **1.1**: Import a metabolic reconstruction\n",
    "* **1.2**: Inspect the reactions of your model\n",
    "* **1.3**: Inspect the metabolites in your model\n",
    "* **1.4**: Inspect the genes in your model\n",
    "* **1.5**: Run flux balance analysis (FBA)\n",
    "* **1.6**: Perform in-silico gene knockout experiments\n",
    "\n",
    "## Setup"
   ]
  },
  {
   "cell_type": "code",
   "execution_count": null,
   "metadata": {},
   "outputs": [],
   "source": [
    "# Import required packages\n",
    "import cobra\n",
    "\n",
    "# Enable autocompleting with tab key\n",
    "%config Completer.use_jedi = False"
   ]
  },
  {
   "cell_type": "markdown",
   "metadata": {},
   "source": [
    "## 1.1 Import a reconstruction"
   ]
  },
  {
   "cell_type": "markdown",
   "metadata": {},
   "source": [
    "The [Systems Biology Markup Language](https://sbml.org/) is an XML-based standard format for distributing models which has support for COBRA models through the FBC extension version 2.\n",
    "\n",
    "Cobrapy has native support for reading and writing SBML with FBCv2. Please note that all id’s in the model must conform to the SBML SID requirements in order to generate a valid SBML file.\n",
    "\n",
    "Let's download and import the model of <a href=\"http://bigg.ucsd.edu/search?query=Saccharomyces+cerevisiae+S288C\"> Saccharomyces cerevisiae</a>."
   ]
  },
  {
   "cell_type": "code",
   "execution_count": null,
   "metadata": {},
   "outputs": [],
   "source": [
    "model_yeast=cobra.io.read_sbml_model(\"iMM904.xml.gz\")"
   ]
  },
  {
   "cell_type": "markdown",
   "metadata": {},
   "source": [
    "The reactions, metabolites, genes, and compartments attributes of the cobrapy model are a special type of `list` called a `cobra.DictList`, and each one is made up of `cobra.Reaction`, `cobra.Metabolite`, `cobra.Gene`, `cobra.Compartment` objects, respectively."
   ]
  },
  {
   "cell_type": "code",
   "execution_count": null,
   "metadata": {},
   "outputs": [],
   "source": [
    "print(\"Reactions: \",len(model_yeast.reactions))\n",
    "print(\"Metabolites: \",len(model_yeast.metabolites))\n",
    "print(\"Genes: \",len(model_yeast.genes))\n",
    "print(\"Compartments: \",len(model_yeast.compartments))"
   ]
  },
  {
   "cell_type": "markdown",
   "metadata": {},
   "source": [
    "When using Jupyter notebooks, this type of information is rendered as a table."
   ]
  },
  {
   "cell_type": "code",
   "execution_count": null,
   "metadata": {},
   "outputs": [],
   "source": [
    "model_yeast"
   ]
  },
  {
   "cell_type": "markdown",
   "metadata": {},
   "source": [
    "Just like a regular list, objects in the `DictList` can be retrieved by index. For example, to get the 3rd reaction in the model (we use an index value of 2 because of python's 0-indexing):"
   ]
  },
  {
   "cell_type": "code",
   "execution_count": null,
   "metadata": {},
   "outputs": [],
   "source": [
    "model_yeast.reactions[2]"
   ]
  },
  {
   "cell_type": "markdown",
   "metadata": {},
   "source": [
    "Additionally, items can be retrieved by their id using the `DictList.get_by_id()` function. For example, to get the cytosolic atp metabolite object (the id is `atp_c`), we will inspect metabolites in the section 1.3\n",
    "For the moment, we can focus on the reactions of our model. "
   ]
  },
  {
   "cell_type": "markdown",
   "metadata": {},
   "source": [
    "## 1.2 Reactions"
   ]
  },
  {
   "cell_type": "markdown",
   "metadata": {},
   "source": [
    "We will consider the reaction glucose 6-phosphate isomerase, which interconverts glucose 6-phosphate and fructose 6-phosphate. The reaction id for this reaction in our test model is PGI. However, if you want to see the IDs of the first `N` number of reactions in the reconstruction, you can run the code below:"
   ]
  },
  {
   "cell_type": "code",
   "execution_count": null,
   "metadata": {},
   "outputs": [],
   "source": [
    "reaction_ids = [reaction.id for reaction in model_yeast.reactions]\n",
    "N=20\n",
    "reaction_ids[:N]"
   ]
  },
  {
   "cell_type": "markdown",
   "metadata": {},
   "source": [
    "Now, let's focus on PGI or another reaction of your choice:"
   ]
  },
  {
   "cell_type": "code",
   "execution_count": null,
   "metadata": {},
   "outputs": [],
   "source": [
    "pgi = model_yeast.reactions.get_by_id(\"PGI\")\n",
    "pgi"
   ]
  },
  {
   "cell_type": "markdown",
   "metadata": {},
   "source": [
    "We can view the full name and reaction catalyzed as strings."
   ]
  },
  {
   "cell_type": "code",
   "execution_count": null,
   "metadata": {},
   "outputs": [],
   "source": [
    "print(pgi.name)\n",
    "print(pgi.reaction)"
   ]
  },
  {
   "cell_type": "markdown",
   "metadata": {},
   "source": [
    "We can also view reaction upper and lower bounds, large numbers, typically around 1000 or more, are used as infinite limits (unconstrained fluxes). \n",
    "Because the `pgi.lower_bound` < 0, and `pgi.upper_bound` > 0, pgi is reversible."
   ]
  },
  {
   "cell_type": "code",
   "execution_count": null,
   "metadata": {},
   "outputs": [],
   "source": [
    "print(pgi.lower_bound, \"< pgi <\", pgi.upper_bound)\n",
    "print(pgi.reversibility)"
   ]
  },
  {
   "cell_type": "markdown",
   "metadata": {},
   "source": [
    "The lower and upper bound of reactions can also be modified, and the reversibility attribute will automatically be updated. The preferred method for manipulating bounds is using reaction.bounds, e.g."
   ]
  },
  {
   "cell_type": "code",
   "execution_count": null,
   "metadata": {},
   "outputs": [],
   "source": [
    "# Save original bounds\n",
    "old_bounds = pgi.bounds\n",
    "\n",
    "# Define and print new bounds\n",
    "pgi.bounds = (0, 1000.0)\n",
    "print(\"New bounds: \",pgi.lower_bound, \"< pgi <\", pgi.upper_bound)\n",
    "print(\"Reversibility after modification:\", pgi.reversibility)\n",
    "\n",
    "# Reset bounds and show reversibility\n",
    "pgi.bounds = old_bounds\n",
    "print(\"Reversibility after resetting:\", pgi.reversibility)"
   ]
  },
  {
   "cell_type": "markdown",
   "metadata": {},
   "source": [
    "We can also ensure the reaction is mass balanced. This function will return elements which violate mass balance. If it comes back empty, then the reaction is mass balanced."
   ]
  },
  {
   "cell_type": "code",
   "execution_count": null,
   "metadata": {},
   "outputs": [],
   "source": [
    "pgi.check_mass_balance()"
   ]
  },
  {
   "cell_type": "markdown",
   "metadata": {},
   "source": [
    "In order to add a metabolite, we pass in a dictionary with the metabolite object and its coefficient"
   ]
  },
  {
   "cell_type": "code",
   "execution_count": null,
   "metadata": {},
   "outputs": [],
   "source": [
    "pgi.add_metabolites({model_yeast.metabolites.get_by_id(\"h_c\"): -1})\n",
    "pgi.reaction"
   ]
  },
  {
   "cell_type": "markdown",
   "metadata": {},
   "source": [
    "The reaction is no longer mass balanced"
   ]
  },
  {
   "cell_type": "code",
   "execution_count": null,
   "metadata": {},
   "outputs": [],
   "source": [
    "pgi.check_mass_balance()"
   ]
  },
  {
   "cell_type": "markdown",
   "metadata": {},
   "source": [
    "We can remove the metabolite, and the reaction will be balanced once again.\n",
    "\n"
   ]
  },
  {
   "cell_type": "code",
   "execution_count": null,
   "metadata": {},
   "outputs": [],
   "source": [
    "pgi.subtract_metabolites({model_yeast.metabolites.get_by_id(\"h_c\"): -1})\n",
    "print(pgi.reaction)\n",
    "print(pgi.check_mass_balance())"
   ]
  },
  {
   "cell_type": "markdown",
   "metadata": {},
   "source": [
    "## 1.3 Metabolites"
   ]
  },
  {
   "cell_type": "markdown",
   "metadata": {},
   "source": [
    "We will consider cytosolic atp as our metabolite, which has the id `atp_c` in our test model. However, if you want to see the IDs of the first N metabolites in the reconstruction, you can run the code below:"
   ]
  },
  {
   "cell_type": "code",
   "execution_count": null,
   "metadata": {},
   "outputs": [],
   "source": [
    "metabolite_ids = [metabolite.id for metabolite in model_yeast.metabolites]\n",
    "N=20\n",
    "metabolite_ids[:N]"
   ]
  },
  {
   "cell_type": "markdown",
   "metadata": {},
   "source": [
    "Now, let's focus on `atp_c` or another metabolite of your choice:"
   ]
  },
  {
   "cell_type": "code",
   "execution_count": null,
   "metadata": {},
   "outputs": [],
   "source": [
    "atp = model_yeast.metabolites.get_by_id(\"atp_c\")\n",
    "atp"
   ]
  },
  {
   "cell_type": "markdown",
   "metadata": {},
   "source": [
    "We can print out the metabolite name and compartment (cytosol in this case) directly as string.\n",
    "\n"
   ]
  },
  {
   "cell_type": "code",
   "execution_count": null,
   "metadata": {},
   "outputs": [],
   "source": [
    "print(atp.name)\n",
    "print(atp.compartment)"
   ]
  },
  {
   "cell_type": "markdown",
   "metadata": {},
   "source": [
    "We can see that ATP is a charged molecule in our model.\n",
    "\n"
   ]
  },
  {
   "cell_type": "code",
   "execution_count": null,
   "metadata": {},
   "outputs": [],
   "source": [
    "atp.charge"
   ]
  },
  {
   "cell_type": "markdown",
   "metadata": {},
   "source": [
    "We can see the chemical formula for the metabolite as well.\n",
    "\n"
   ]
  },
  {
   "cell_type": "code",
   "execution_count": null,
   "metadata": {},
   "outputs": [],
   "source": [
    "print(atp.formula)"
   ]
  },
  {
   "cell_type": "markdown",
   "metadata": {},
   "source": [
    "## 1.4 Genes"
   ]
  },
  {
   "cell_type": "markdown",
   "metadata": {},
   "source": [
    "The `gene_reaction_rule` is a boolean representation of the gene requirements for this reaction to be active as described in <a href=\"https://www.nature.com/articles/nprot.2011.308\">Schellenberger et al 2011 Nature Protocols 6(9):1290-307</a>.\n",
    "\n",
    "The gene-protein-reaction rules (GPR) are stored as `GPR class` in the GPR field of a reaction object. A string representation can be extracted using `gene_reaction_rule` on a Reaction object."
   ]
  },
  {
   "cell_type": "code",
   "execution_count": null,
   "metadata": {},
   "outputs": [],
   "source": [
    "gpr_string = pgi.gene_reaction_rule\n",
    "print(gpr_string)"
   ]
  },
  {
   "cell_type": "markdown",
   "metadata": {},
   "source": [
    "Corresponding gene objects also exist. These objects are tracked by the reactions itself, as well as by the model"
   ]
  },
  {
   "cell_type": "code",
   "execution_count": null,
   "metadata": {},
   "outputs": [],
   "source": [
    "pgi_gene = model_yeast.genes.get_by_id(\"YBR196C\")\n",
    "pgi_gene"
   ]
  },
  {
   "cell_type": "markdown",
   "metadata": {},
   "source": [
    "To check that this gene is also on KEGG database to assess the consistency of the metabolic reconstruction, click <a href=\"https://www.genome.jp/entry/sce:YBR196C\"> here</a>. "
   ]
  },
  {
   "cell_type": "markdown",
   "metadata": {},
   "source": [
    "## 1.5 Running FBA\n",
    "\n",
    "In the code chunks below we are running FBA using the `optimize()` function. We can also see import and export fluxes in our FBA solution using the `summary()` function."
   ]
  },
  {
   "cell_type": "code",
   "execution_count": null,
   "metadata": {},
   "outputs": [],
   "source": [
    "# Run FBA\n",
    "model_yeast.optimize()\n",
    "\n",
    "# Show exchange fluxes\n",
    "model_yeast.summary()"
   ]
  },
  {
   "cell_type": "markdown",
   "metadata": {},
   "source": [
    "We can also inspect all reactions that consume or produce a given metabolite in our FBA solution. For example, let't have a look at ATP:"
   ]
  },
  {
   "cell_type": "code",
   "execution_count": null,
   "metadata": {
    "scrolled": true
   },
   "outputs": [],
   "source": [
    "model_yeast.metabolites.atp_c.summary()"
   ]
  },
  {
   "cell_type": "markdown",
   "metadata": {},
   "source": [
    "To inspect the flux of a specific reaction of interest:"
   ]
  },
  {
   "cell_type": "code",
   "execution_count": null,
   "metadata": {},
   "outputs": [],
   "source": [
    "model_yeast.reactions.PGK.summary()"
   ]
  },
  {
   "cell_type": "markdown",
   "metadata": {},
   "source": [
    "To inspect fluxes through the first N reactions:"
   ]
  },
  {
   "cell_type": "code",
   "execution_count": null,
   "metadata": {},
   "outputs": [],
   "source": [
    "solution = model_yeast.optimize()\n",
    "solution.fluxes[:N]"
   ]
  },
  {
   "cell_type": "markdown",
   "metadata": {},
   "source": [
    "## 1.6 Simulating Knockouts"
   ]
  },
  {
   "cell_type": "markdown",
   "metadata": {},
   "source": [
    "The `knock_out()` function can be used to knockout reactions or genes. In the case of reaction knockouts, the function will simply set both lower and upper bounds to 0, therefore preventing any flux through the reaction. For gene knockouts, it will evaluate the GPR first and only set the upper and lower bounds to 0 if there are no alternative genes that catalyze the associated reaction(s)."
   ]
  },
  {
   "cell_type": "code",
   "execution_count": null,
   "metadata": {},
   "outputs": [],
   "source": [
    "model_yeast=cobra.io.read_sbml_model(\"iMM904.xml.gz\")\n",
    "pgi=model_yeast.reactions.get_by_id(\"PGI\")\n",
    "print(\"before KO: %4d < flux_PGI < %4d\" % (pgi.lower_bound, pgi.upper_bound))\n",
    "\n",
    "\n",
    "gene=model_yeast.genes.get_by_id(\"YBR196C\")\n",
    "gene.knock_out()\n",
    "print(\"after KO: %4d < flux_PGI < %4d\" % (pgi.lower_bound, pgi.upper_bound))\n"
   ]
  },
  {
   "cell_type": "markdown",
   "metadata": {},
   "source": [
    "One may often want to make small changes to a model and evaluate their impacts. For example, we may want to knock-out all reactions sequentially, and see what the impact of this is on the objective function. One way of doing this would be to create a new copy of the model before each knock-out with the `model.copy()` function. However, even with small models, this is a very slow approach as models are quite complex objects. Instead, it is better to carry out the knock-out, optimize (i.e. solve FBA problem), and then manually reset the reaction bounds before proceeding with the next reaction. Since this is such a common scenario, `cobrapy` allows us to use the model as a context, to have changes reverted automatically.\n",
    "\n",
    "Here we knock out the first N reactions and check for new growth rate values:"
   ]
  },
  {
   "cell_type": "code",
   "execution_count": null,
   "metadata": {
    "scrolled": true
   },
   "outputs": [],
   "source": [
    "# Import the model again to reverse the previous edits\n",
    "model_yeast=cobra.io.read_sbml_model(\"iMM904.xml.gz\")\n",
    "\n",
    "# Ensure that glpk solver is used\n",
    "model_yeast.solver = 'glpk'\n",
    "\n",
    "# Show FBA solution growth rate prior to reaction knockouts\n",
    "model_yeast.optimize()\n",
    "print(\"Pre reaction knockout growth rate: \",model_yeast.objective.value)\n",
    "\n",
    "# Define first N number of reactions to knock out\n",
    "N=20\n",
    "\n",
    "# Simulate knockouts of N single reactions \n",
    "for reaction in model_yeast.reactions[:N]:\n",
    "    with model_yeast as model_yeast:  # Prevent editing of the original model\n",
    "        reaction.knock_out()\n",
    "        model_yeast.optimize()\n",
    "        print('%s blocked (bounds: %s), new growth rate %f' %\n",
    "              (reaction.id, str(reaction.bounds), model_yeast.objective.value))"
   ]
  },
  {
   "cell_type": "markdown",
   "metadata": {},
   "source": [
    "Next we will knock out genes instead of reactions."
   ]
  },
  {
   "cell_type": "code",
   "execution_count": null,
   "metadata": {},
   "outputs": [],
   "source": [
    "# Import the model again to reverse the previous edits\n",
    "model_yeast=cobra.io.read_sbml_model(\"iMM904.xml.gz\")\n",
    "\n",
    "# Ensure that glpk solver is used\n",
    "model_yeast.solver = 'glpk'\n",
    "\n",
    "# Show FBA solution growth rate prior to gene knockouts\n",
    "model_yeast.optimize()\n",
    "print(\"Pre gene knockout growth rate: \",model_yeast.objective.value)\n",
    "\n",
    "# Define first N number of genes to knock out\n",
    "N=20\n",
    "\n",
    "# Simulate knockouts of N genes and print values\n",
    "for gene in model_yeast.genes[:N]:\n",
    "    with model_yeast as model_yeast:  # Prevent editing the original model\n",
    "        gene.knock_out()\n",
    "        model_yeast.optimize()\n",
    "        print('%s, new growth rate %f' %\n",
    "              (gene.id, model_yeast.objective.value))\n",
    "        \n",
    "\n",
    "# Simulate gene knockouts for all genes, this time we are storing the results in a vector for plotting\n",
    "genes_ids=[gene.id for gene in model_yeast.genes]\n",
    "grow_rates=[]\n",
    "for gene in model_yeast.genes:\n",
    "    with model_yeast as model_yeast:  # Prevent editing the original model\n",
    "        gene.knock_out()\n",
    "        model_yeast.optimize()\n",
    "        grow_rates.append(model_yeast.objective.value)"
   ]
  },
  {
   "cell_type": "markdown",
   "metadata": {},
   "source": [
    "Let's see the distribution of our results creating a histogram plot with the vectors obtained above:"
   ]
  },
  {
   "cell_type": "code",
   "execution_count": null,
   "metadata": {},
   "outputs": [],
   "source": [
    "import matplotlib.pyplot as plt\n",
    "import numpy as np\n",
    "\n",
    "x = np.array(genes_ids)\n",
    "y = np.array(grow_rates)\n",
    "\n",
    "plt.hist(y)\n",
    "plt.xlabel('Growth rates')\n",
    "plt.ylabel('Number of genes')\n",
    "plt.savefig(\"distribution.png\", dpi=100, bbox_inches='tight',pad_inches=0)"
   ]
  },
  {
   "cell_type": "markdown",
   "metadata": {},
   "source": [
    "Let's try a different visualization, this time we will create a big scatter plot showing the growth rate of each gene-knockout."
   ]
  },
  {
   "cell_type": "code",
   "execution_count": null,
   "metadata": {},
   "outputs": [],
   "source": [
    "import matplotlib.pyplot as plt\n",
    "import numpy as np\n",
    "\n",
    "x = np.array(genes_ids)\n",
    "y = np.array(grow_rates)\n",
    "\n",
    "fig = plt.figure(figsize=(340, 10))\n",
    "plt.scatter(x, y)\n",
    "plt.margins(x=0.001) \n",
    "plt.xticks(rotation=90)\n",
    "plt.savefig(\"scatter.png\", dpi=100, bbox_inches='tight',pad_inches=0)"
   ]
  },
  {
   "cell_type": "markdown",
   "metadata": {},
   "source": [
    "Since the generate plot is very wide, it will appear as a blank box. Double click on it to expand it, then you can scroll to the right to inspect gene-knockout-induced changes in growth rate."
   ]
  },
  {
   "cell_type": "markdown",
   "metadata": {},
   "source": [
    "### Questions"
   ]
  },
  {
   "cell_type": "markdown",
   "metadata": {},
   "source": [
    "1. The distribution of predicted growth rates appears to be bimodal, with a small peak on the left and a larger peak on the right, can you explain why it has this shape? \n",
    "2. Can you verify the consistency between gene and reactions knockouts results using a gene or a reaction of your choice?\n",
    "3. Can you verify the essentiality of your gene of choice from the previous exercise using relevant databases (e.g. KEGG and the SGD)?\n",
    "4. Do you expect these results to change if we change the medium where we are growing our yeast model? "
   ]
  },
  {
   "cell_type": "markdown",
   "metadata": {},
   "source": [
    "### Solutions \n",
    "#### Question 1\n",
    "\n",
    "Answer here\n",
    "\n",
    "#### Question 2"
   ]
  },
  {
   "cell_type": "code",
   "execution_count": null,
   "metadata": {},
   "outputs": [],
   "source": [
    "# Code here"
   ]
  },
  {
   "cell_type": "code",
   "execution_count": null,
   "metadata": {},
   "outputs": [],
   "source": [
    "# Code here"
   ]
  },
  {
   "cell_type": "markdown",
   "metadata": {},
   "source": [
    "#### Question 3\n",
    "\n",
    "Answer here"
   ]
  },
  {
   "cell_type": "markdown",
   "metadata": {},
   "source": [
    "#### Question 4\n",
    "\n",
    "Answer here"
   ]
  }
 ],
 "metadata": {
  "kernelspec": {
   "display_name": "Python 3",
   "language": "python",
   "name": "python3"
  },
  "language_info": {
   "codemirror_mode": {
    "name": "ipython",
    "version": 3
   },
   "file_extension": ".py",
   "mimetype": "text/x-python",
   "name": "python",
   "nbconvert_exporter": "python",
   "pygments_lexer": "ipython3",
   "version": "3.8.8"
  }
 },
 "nbformat": 4,
 "nbformat_minor": 4
}
